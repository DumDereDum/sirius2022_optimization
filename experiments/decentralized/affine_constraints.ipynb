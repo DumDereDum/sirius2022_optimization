{
 "cells": [
  {
   "cell_type": "code",
   "execution_count": 27,
   "id": "0241d53e-e793-485f-bbc4-888083e99d18",
   "metadata": {},
   "outputs": [],
   "source": [
    "import random\n",
    "import numpy as np\n",
    "\n",
    "# graphs\n",
    "import matplotlib.pyplot as plt\n",
    "import networkx as nx\n",
    "from networkx.generators.random_graphs import erdos_renyi_graph, complete_graph\n",
    "from networkx.generators import circulant_graph"
   ]
  },
  {
   "cell_type": "code",
   "execution_count": 59,
   "id": "872929d2-cddb-4b7c-8675-16e9a25b368e",
   "metadata": {},
   "outputs": [],
   "source": [
    "class DAPDG:\n",
    "    \n",
    "    def __init__(self, F, grad_F, eta=0.3, alpha=0.45, beta=0.01, theta=0.78, sigma=0.12, eps=1e-16, verbose=False):\n",
    "        \"\"\"\n",
    "        F: function\n",
    "        grad_F: function - F'(x)\n",
    "        L: float - smoothness constante, L > mu\n",
    "        mu: float - strong convexity constant\n",
    "        sigma: float - ???\n",
    "        eps: float - threshold to stop iterations\n",
    "        \"\"\"\n",
    "        assert 0 < sigma <= 1\n",
    "        assert 0 < eps\n",
    "        \n",
    "        self.eta = eta\n",
    "        self.alpha = alpha\n",
    "        self.beta = beta\n",
    "        self.theta = theta\n",
    "        self.sigma = sigma\n",
    "        \n",
    "        self.eps = eps        \n",
    "        self.F = F\n",
    "        self.grad_F = grad_F\n",
    "\n",
    "        self.verbose = verbose\n",
    "        \n",
    "        \n",
    "    def init_x0(self, B, W, N):\n",
    "        M = W.shape[0]\n",
    "        N = B.shape[1]\n",
    "        A = np.vstack([np.kron(np.ones((M, M)), B), gamma * np.kron(W, np.ones((N, N)))])\n",
    "        return (A * np.random.rand(N * M)).reshape(M, N)\n",
    "\n",
    "\n",
    "    def opt_step(self, x, x_f, A):\n",
    "        x_g = self.theta * x + (1 - self.theta) * x_f\n",
    "        \n",
    "        grad_F_x_g = np.array([grad_F[i](x_g[i]) for i in range(M)])\n",
    "        x_new = x + self.eta * self.alpha * (x_g - x) - \\\n",
    "            self.eta * self.beta * (A.T.dot(A.dot(x.reshape(N*M)))).reshape(M,N) - \\\n",
    "            self.eta * grad_F_x_g\n",
    "        \n",
    "        x_f = x_g + self.sigma * (x_new - x)\n",
    "        \n",
    "        return x_new, x_f\n",
    "\n",
    "\n",
    "    def optimize(self, x, B, W, gamma=1, steps_count=100):\n",
    "        M = W.shape[0]\n",
    "        N = B.shape[1]\n",
    "        A = np.vstack([np.kron(np.ones((M, M)), B), gamma * np.kron(W, np.ones((N, N)))])\n",
    "        \n",
    "        x_f = x\n",
    "        for i in range(steps_count):\n",
    "            if sum(sum(grad_F[j](x[j]) ** 2 for j in range(M))) < self.eps:\n",
    "                return i, x\n",
    "            \n",
    "            x, x_f = self.opt_step(x, x_f, A)\n",
    "            if self.verbose and i % self.verbose == 0:\n",
    "                print(f'Step {i}: {x}')\n",
    "\n",
    "        if self.verbose:\n",
    "            print('Not converged')\n",
    "        return False, x"
   ]
  },
  {
   "cell_type": "markdown",
   "id": "cd5c9d8f-2186-45e5-8f75-2c82c4038c61",
   "metadata": {},
   "source": [
    "$$f_i(x) = \\frac{1}{2}\\| C_i x - d_i \\|_2^2 + \\frac{\\theta}{2} \\| x \\|_2^2 $$"
   ]
  },
  {
   "cell_type": "code",
   "execution_count": 60,
   "id": "dbb4bdc0-b289-43e7-9bee-2deee6c4917f",
   "metadata": {},
   "outputs": [],
   "source": [
    "N = 5  # dimension of space \n",
    "M = 3  # count of nodes\n",
    "P = 4  # dimension of constraints"
   ]
  },
  {
   "cell_type": "code",
   "execution_count": 61,
   "id": "241f2365-78c1-4a94-975b-a1137a240124",
   "metadata": {},
   "outputs": [],
   "source": [
    "C = np.random.rand(M, N)\n",
    "d = np.random.rand(M, N)\n",
    "theta = 0.5\n",
    "\n",
    "def create_func(C_i, d_i, theta):\n",
    "    def f(x):\n",
    "        first_part = C_i * x - d_i\n",
    "        first_part = 0.5 * np.sum(first_part ** 2)\n",
    "        second_part = theta / 2 * np.sum(x ** 2)\n",
    "        return first_part + second_part\n",
    "        \n",
    "    def grad_f(x):\n",
    "        return C_i ** 2 * x - d_i / 2 + theta * x\n",
    "    \n",
    "    return f, grad_f\n",
    "    \n",
    "F = [create_func(C[i], d[i], theta)[0] for i in range(M)]\n",
    "grad_F = [create_func(C[i], d[i], theta)[1] for i in range(M)]"
   ]
  },
  {
   "cell_type": "code",
   "execution_count": 62,
   "id": "019c7010-b3a1-4223-b5cb-7c4901bd65d1",
   "metadata": {},
   "outputs": [],
   "source": [
    "N = 5\n",
    "M = 3\n",
    "P = 4\n",
    "x = np.random.rand(M, N)\n",
    "B = np.random.rand(P, N)\n",
    "B[-1] = B[:-1].sum(axis=0)  # to create non-trivial kernel\n",
    "G = circulant_graph(M, [1])\n",
    "W = nx.laplacian_matrix(G).A  # may be better not to convert into numpy array"
   ]
  },
  {
   "cell_type": "code",
   "execution_count": 63,
   "id": "dd24df32-4a42-49ac-acbf-9b9bff6cfc6e",
   "metadata": {},
   "outputs": [
    {
     "data": {
      "text/plain": [
       "(False,\n",
       " array([[-0.15952721,  0.0996692 ,  0.44632422, -0.03562857,  0.04354121],\n",
       "        [-0.01535027, -0.1203439 ,  0.37038599,  0.30530841,  0.17242742],\n",
       "        [-0.10111642,  0.10444119, -0.17754932,  0.33236817,  0.40637627]]))"
      ]
     },
     "execution_count": 63,
     "metadata": {},
     "output_type": "execute_result"
    }
   ],
   "source": [
    "opt = DAPDG(F, grad_F, eps=1e-16)\n",
    "opt.optimize(x, B, W)"
   ]
  },
  {
   "cell_type": "code",
   "execution_count": 64,
   "id": "dbd29c3d-73e2-4cfb-9ef4-d0783b008d97",
   "metadata": {},
   "outputs": [
    {
     "name": "stderr",
     "output_type": "stream",
     "text": [
      "0it [00:00, ?it/s]\n"
     ]
    },
    {
     "ename": "ValueError",
     "evalue": "operands could not be broadcast together with shapes (15,) (3,5) ",
     "output_type": "error",
     "traceback": [
      "\u001b[0;31m---------------------------------------------------------------------------\u001b[0m",
      "\u001b[0;31mValueError\u001b[0m                                Traceback (most recent call last)",
      "Input \u001b[0;32mIn [64]\u001b[0m, in \u001b[0;36m<cell line: 7>\u001b[0;34m()\u001b[0m\n\u001b[1;32m      9\u001b[0m x \u001b[38;5;241m=\u001b[39m np\u001b[38;5;241m.\u001b[39mrandom\u001b[38;5;241m.\u001b[39mrand(N \u001b[38;5;241m*\u001b[39m M)\n\u001b[1;32m     10\u001b[0m opt \u001b[38;5;241m=\u001b[39m DAPDG(F, grad_F, eta\u001b[38;5;241m=\u001b[39meta, alpha\u001b[38;5;241m=\u001b[39malpha, beta\u001b[38;5;241m=\u001b[39mbeta, theta\u001b[38;5;241m=\u001b[39mtheta, sigma\u001b[38;5;241m=\u001b[39msigma, eps\u001b[38;5;241m=\u001b[39m\u001b[38;5;241m1e-16\u001b[39m)\n\u001b[0;32m---> 11\u001b[0m res \u001b[38;5;241m=\u001b[39m \u001b[43mopt\u001b[49m\u001b[38;5;241;43m.\u001b[39;49m\u001b[43moptimize\u001b[49m\u001b[43m(\u001b[49m\u001b[43mx\u001b[49m\u001b[43m,\u001b[49m\u001b[43m \u001b[49m\u001b[43mB\u001b[49m\u001b[43m,\u001b[49m\u001b[43m \u001b[49m\u001b[43mW\u001b[49m\u001b[43m)\u001b[49m\n\u001b[1;32m     12\u001b[0m \u001b[38;5;28;01mif\u001b[39;00m res[\u001b[38;5;241m0\u001b[39m]:\n\u001b[1;32m     13\u001b[0m     success\u001b[38;5;241m.\u001b[39mappend((res, eta, alpha, beta, theta, sigma))\n",
      "Input \u001b[0;32mIn [59]\u001b[0m, in \u001b[0;36mDAPDG.optimize\u001b[0;34m(self, x, B, W, gamma, steps_count)\u001b[0m\n\u001b[1;32m     55\u001b[0m \u001b[38;5;28;01mif\u001b[39;00m \u001b[38;5;28msum\u001b[39m(\u001b[38;5;28msum\u001b[39m(grad_F[j](x[j]) \u001b[38;5;241m*\u001b[39m\u001b[38;5;241m*\u001b[39m \u001b[38;5;241m2\u001b[39m \u001b[38;5;28;01mfor\u001b[39;00m j \u001b[38;5;129;01min\u001b[39;00m \u001b[38;5;28mrange\u001b[39m(M))) \u001b[38;5;241m<\u001b[39m \u001b[38;5;28mself\u001b[39m\u001b[38;5;241m.\u001b[39meps:\n\u001b[1;32m     56\u001b[0m     \u001b[38;5;28;01mreturn\u001b[39;00m i, x\n\u001b[0;32m---> 58\u001b[0m x, x_f \u001b[38;5;241m=\u001b[39m \u001b[38;5;28;43mself\u001b[39;49m\u001b[38;5;241;43m.\u001b[39;49m\u001b[43mopt_step\u001b[49m\u001b[43m(\u001b[49m\u001b[43mx\u001b[49m\u001b[43m,\u001b[49m\u001b[43m \u001b[49m\u001b[43mx_f\u001b[49m\u001b[43m,\u001b[49m\u001b[43m \u001b[49m\u001b[43mA\u001b[49m\u001b[43m)\u001b[49m\n\u001b[1;32m     59\u001b[0m \u001b[38;5;28;01mif\u001b[39;00m \u001b[38;5;28mself\u001b[39m\u001b[38;5;241m.\u001b[39mverbose \u001b[38;5;129;01mand\u001b[39;00m i \u001b[38;5;241m%\u001b[39m \u001b[38;5;28mself\u001b[39m\u001b[38;5;241m.\u001b[39mverbose \u001b[38;5;241m==\u001b[39m \u001b[38;5;241m0\u001b[39m:\n\u001b[1;32m     60\u001b[0m     \u001b[38;5;28mprint\u001b[39m(\u001b[38;5;124mf\u001b[39m\u001b[38;5;124m'\u001b[39m\u001b[38;5;124mStep \u001b[39m\u001b[38;5;132;01m{\u001b[39;00mi\u001b[38;5;132;01m}\u001b[39;00m\u001b[38;5;124m: \u001b[39m\u001b[38;5;132;01m{\u001b[39;00mx\u001b[38;5;132;01m}\u001b[39;00m\u001b[38;5;124m'\u001b[39m)\n",
      "Input \u001b[0;32mIn [59]\u001b[0m, in \u001b[0;36mDAPDG.opt_step\u001b[0;34m(self, x, x_f, A)\u001b[0m\n\u001b[1;32m     36\u001b[0m x_g \u001b[38;5;241m=\u001b[39m \u001b[38;5;28mself\u001b[39m\u001b[38;5;241m.\u001b[39mtheta \u001b[38;5;241m*\u001b[39m x \u001b[38;5;241m+\u001b[39m (\u001b[38;5;241m1\u001b[39m \u001b[38;5;241m-\u001b[39m \u001b[38;5;28mself\u001b[39m\u001b[38;5;241m.\u001b[39mtheta) \u001b[38;5;241m*\u001b[39m x_f\n\u001b[1;32m     38\u001b[0m grad_F_x_g \u001b[38;5;241m=\u001b[39m np\u001b[38;5;241m.\u001b[39marray([grad_F[i](x_g[i]) \u001b[38;5;28;01mfor\u001b[39;00m i \u001b[38;5;129;01min\u001b[39;00m \u001b[38;5;28mrange\u001b[39m(M)])\n\u001b[0;32m---> 39\u001b[0m x_new \u001b[38;5;241m=\u001b[39m \u001b[43mx\u001b[49m\u001b[43m \u001b[49m\u001b[38;5;241;43m+\u001b[39;49m\u001b[43m \u001b[49m\u001b[38;5;28;43mself\u001b[39;49m\u001b[38;5;241;43m.\u001b[39;49m\u001b[43meta\u001b[49m\u001b[43m \u001b[49m\u001b[38;5;241;43m*\u001b[39;49m\u001b[43m \u001b[49m\u001b[38;5;28;43mself\u001b[39;49m\u001b[38;5;241;43m.\u001b[39;49m\u001b[43malpha\u001b[49m\u001b[43m \u001b[49m\u001b[38;5;241;43m*\u001b[39;49m\u001b[43m \u001b[49m\u001b[43m(\u001b[49m\u001b[43mx_g\u001b[49m\u001b[43m \u001b[49m\u001b[38;5;241;43m-\u001b[39;49m\u001b[43m \u001b[49m\u001b[43mx\u001b[49m\u001b[43m)\u001b[49m\u001b[43m \u001b[49m\u001b[38;5;241;43m-\u001b[39;49m\u001b[43m \u001b[49m\u001b[43m\\\u001b[49m\n\u001b[1;32m     40\u001b[0m \u001b[43m    \u001b[49m\u001b[38;5;28;43mself\u001b[39;49m\u001b[38;5;241;43m.\u001b[39;49m\u001b[43meta\u001b[49m\u001b[43m \u001b[49m\u001b[38;5;241;43m*\u001b[39;49m\u001b[43m \u001b[49m\u001b[38;5;28;43mself\u001b[39;49m\u001b[38;5;241;43m.\u001b[39;49m\u001b[43mbeta\u001b[49m\u001b[43m \u001b[49m\u001b[38;5;241;43m*\u001b[39;49m\u001b[43m \u001b[49m\u001b[43m(\u001b[49m\u001b[43mA\u001b[49m\u001b[38;5;241;43m.\u001b[39;49m\u001b[43mT\u001b[49m\u001b[38;5;241;43m.\u001b[39;49m\u001b[43mdot\u001b[49m\u001b[43m(\u001b[49m\u001b[43mA\u001b[49m\u001b[38;5;241;43m.\u001b[39;49m\u001b[43mdot\u001b[49m\u001b[43m(\u001b[49m\u001b[43mx\u001b[49m\u001b[38;5;241;43m.\u001b[39;49m\u001b[43mreshape\u001b[49m\u001b[43m(\u001b[49m\u001b[43mN\u001b[49m\u001b[38;5;241;43m*\u001b[39;49m\u001b[43mM\u001b[49m\u001b[43m)\u001b[49m\u001b[43m)\u001b[49m\u001b[43m)\u001b[49m\u001b[43m)\u001b[49m\u001b[38;5;241;43m.\u001b[39;49m\u001b[43mreshape\u001b[49m\u001b[43m(\u001b[49m\u001b[43mM\u001b[49m\u001b[43m,\u001b[49m\u001b[43mN\u001b[49m\u001b[43m)\u001b[49m \u001b[38;5;241m-\u001b[39m \\\n\u001b[1;32m     41\u001b[0m     \u001b[38;5;28mself\u001b[39m\u001b[38;5;241m.\u001b[39meta \u001b[38;5;241m*\u001b[39m grad_F_x_g\n\u001b[1;32m     43\u001b[0m x_f \u001b[38;5;241m=\u001b[39m x_g \u001b[38;5;241m+\u001b[39m \u001b[38;5;28mself\u001b[39m\u001b[38;5;241m.\u001b[39msigma \u001b[38;5;241m*\u001b[39m (x_new \u001b[38;5;241m-\u001b[39m x)\n\u001b[1;32m     45\u001b[0m \u001b[38;5;28;01mreturn\u001b[39;00m x_new, x_f\n",
      "\u001b[0;31mValueError\u001b[0m: operands could not be broadcast together with shapes (15,) (3,5) "
     ]
    }
   ],
   "source": [
    "import itertools\n",
    "from tqdm import tqdm\n",
    "\n",
    "min_i = 1000\n",
    "best_success = -1\n",
    "success = []\n",
    "for eta, alpha, beta, theta, sigma in tqdm(itertools.product(np.linspace(0.01, 1, 10), np.linspace(0.01, 1, 10), np.linspace(0.01, 1, 10),\n",
    "                                                             np.linspace(0.01, 1, 10), np.linspace(0.01, 1, 10))):\n",
    "    x = np.random.rand(N * M)\n",
    "    opt = DAPDG(F, grad_F, eta=eta, alpha=alpha, beta=beta, theta=theta, sigma=sigma, eps=1e-16)\n",
    "    res = opt.optimize(x, B, W)\n",
    "    if res[0]:\n",
    "        success.append((res, eta, alpha, beta, theta, sigma))\n",
    "        if res[0] < min_i:\n",
    "            min_i = res[0]\n",
    "            best_success = len(success) - 1"
   ]
  },
  {
   "cell_type": "code",
   "execution_count": 65,
   "id": "cc8367ef-e7e4-4d0a-9e1f-26f8f182651a",
   "metadata": {},
   "outputs": [
    {
     "ename": "IndexError",
     "evalue": "list index out of range",
     "output_type": "error",
     "traceback": [
      "\u001b[0;31m---------------------------------------------------------------------------\u001b[0m",
      "\u001b[0;31mIndexError\u001b[0m                                Traceback (most recent call last)",
      "Input \u001b[0;32mIn [65]\u001b[0m, in \u001b[0;36m<cell line: 1>\u001b[0;34m()\u001b[0m\n\u001b[0;32m----> 1\u001b[0m \u001b[43msuccess\u001b[49m\u001b[43m[\u001b[49m\u001b[38;5;241;43m1991\u001b[39;49m\u001b[43m]\u001b[49m\n",
      "\u001b[0;31mIndexError\u001b[0m: list index out of range"
     ]
    }
   ],
   "source": [
    "success[1991]"
   ]
  },
  {
   "cell_type": "code",
   "execution_count": null,
   "id": "514df648-3033-4527-abdd-b04ee3d35a95",
   "metadata": {},
   "outputs": [],
   "source": []
  }
 ],
 "metadata": {
  "kernelspec": {
   "display_name": "Python 3 (ipykernel)",
   "language": "python",
   "name": "python3"
  },
  "language_info": {
   "codemirror_mode": {
    "name": "ipython",
    "version": 3
   },
   "file_extension": ".py",
   "mimetype": "text/x-python",
   "name": "python",
   "nbconvert_exporter": "python",
   "pygments_lexer": "ipython3",
   "version": "3.10.6"
  }
 },
 "nbformat": 4,
 "nbformat_minor": 5
}
