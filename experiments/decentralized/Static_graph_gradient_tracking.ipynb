{
 "cells": [
  {
   "cell_type": "code",
   "execution_count": 1,
   "id": "e22a4723",
   "metadata": {},
   "outputs": [],
   "source": [
    "import random\n",
    "import numpy as np\n",
    "import matplotlib.pyplot as plt"
   ]
  },
  {
   "cell_type": "code",
   "execution_count": 2,
   "id": "cabe0b11",
   "metadata": {},
   "outputs": [],
   "source": [
    "# warnings are not important :)\n",
    "import warnings\n",
    "warnings.filterwarnings('ignore')"
   ]
  },
  {
   "cell_type": "code",
   "execution_count": 3,
   "id": "d38cbe7e",
   "metadata": {},
   "outputs": [
    {
     "data": {
      "text/html": [
       "<style>.container { width:100% !important; }</style>"
      ],
      "text/plain": [
       "<IPython.core.display.HTML object>"
      ]
     },
     "metadata": {},
     "output_type": "display_data"
    }
   ],
   "source": [
    "from IPython.display import display, HTML\n",
    "display(HTML(\"<style>.container { width:100% !important; }</style>\"))"
   ]
  },
  {
   "cell_type": "code",
   "execution_count": 4,
   "id": "bedbf265",
   "metadata": {},
   "outputs": [],
   "source": [
    "# import graph module\n",
    "import sys\n",
    "sys.path.append(\"../../\")\n",
    "from tools.graph_tools import *\n",
    "from oracles.minimization import *\n",
    "from methods.gradient_tracking import *"
   ]
  },
  {
   "cell_type": "code",
   "execution_count": null,
   "id": "369a5ead",
   "metadata": {},
   "outputs": [],
   "source": []
  },
  {
   "cell_type": "code",
   "execution_count": 5,
   "id": "f87cc76e",
   "metadata": {},
   "outputs": [],
   "source": [
    "def calc_delta_Fx(oracles, x):\n",
    "    res = []\n",
    "    for i in range(len(oracles)):\n",
    "        res.append( oracles[i].grad(np.array([x[i,j] for j in range(2)])) )\n",
    "        #print(oracles[i].grad(np.array([x[i,j] for j in range(2)])))\n",
    "    return np.matrix(res)\n",
    "\n",
    "def calc_F(oracles, x):\n",
    "    res = []\n",
    "    for i in range(len(oracles)):\n",
    "        res.append( oracles[i].func(np.array([x[i,j] for j in range(2)])) )\n",
    "    return np.matrix(res)\n",
    "\n",
    "def calc_error(oracles, x_curr, x_prev):\n",
    "    return np.sum( abs(calc_F(oracles, x_curr) - calc_F(oracles, x_prev)) )  / len(oracles)\n",
    "\n",
    "def _calc_error(oracles, x_curr, x_prev):\n",
    "    return np.sum( abs(x_curr - np.array([1, 2])) ) / len(oracles)"
   ]
  },
  {
   "cell_type": "code",
   "execution_count": null,
   "id": "d3861f42",
   "metadata": {},
   "outputs": [],
   "source": []
  },
  {
   "cell_type": "code",
   "execution_count": 6,
   "id": "e13106ce",
   "metadata": {},
   "outputs": [],
   "source": [
    "N = 40\n",
    "x = np.array([1, 2])\n",
    "oracles = []\n",
    "for i in range(N):\n",
    "    A = np.random.random((2, 2))\n",
    "    b = A.dot(x)\n",
    "    oracles.append(LinearRegressionL2Oracle(A, b, regcoef=0.01))"
   ]
  },
  {
   "cell_type": "code",
   "execution_count": 7,
   "id": "3a690910",
   "metadata": {},
   "outputs": [],
   "source": [
    "W = make_random_graph_matrix(N, 0.2)\n",
    "W = fill_metropolis_weigts(W)\n",
    "#make_graph_img(W, fig_size=(20, 20))"
   ]
  },
  {
   "cell_type": "code",
   "execution_count": 8,
   "id": "90994802",
   "metadata": {},
   "outputs": [],
   "source": [
    "alpha = 0.01\n",
    "theta = 1\n",
    "mu = 0\n",
    "\n",
    "err = 0.01"
   ]
  },
  {
   "cell_type": "code",
   "execution_count": 9,
   "id": "a1122916",
   "metadata": {},
   "outputs": [],
   "source": [
    "x0 = np.full((N, 2), [0.5, 1])"
   ]
  },
  {
   "cell_type": "code",
   "execution_count": 10,
   "id": "3d122230",
   "metadata": {
    "scrolled": true
   },
   "outputs": [],
   "source": [
    "res = gradient_tracking(F = oracles,\n",
    "                 f = oracles,\n",
    "                 calc_delta_Fx = calc_delta_Fx,\n",
    "                 calc_error = _calc_error,\n",
    "                 W = W,\n",
    "                 x0 = x0,\n",
    "                 alpha = alpha,\n",
    "                 theta = theta,\n",
    "                 mu = mu,\n",
    "                 err = err,\n",
    "                 max_iter = 3000,\n",
    "                 need_log = False)"
   ]
  },
  {
   "cell_type": "code",
   "execution_count": null,
   "id": "ff377f1c",
   "metadata": {},
   "outputs": [],
   "source": []
  },
  {
   "cell_type": "code",
   "execution_count": 11,
   "id": "e943e614",
   "metadata": {},
   "outputs": [
    {
     "name": "stdout",
     "output_type": "stream",
     "text": [
      "i: 0 func: 0.02373243222999908\n",
      "i: 1 func: 0.023732432214340727\n",
      "i: 2 func: 0.023732432223005535\n",
      "i: 3 func: 0.023732432242692895\n",
      "i: 4 func: 0.02373243222510876\n",
      "i: 5 func: 0.02373243221735188\n",
      "i: 6 func: 0.023732432221662488\n",
      "i: 7 func: 0.02373243224010466\n",
      "i: 8 func: 0.02373243222079018\n",
      "i: 9 func: 0.023732432238224178\n",
      "i: 10 func: 0.023732432230041435\n",
      "i: 11 func: 0.023732432218155068\n",
      "i: 12 func: 0.023732432225688552\n",
      "i: 13 func: 0.02373243221836101\n",
      "i: 14 func: 0.02373243223963679\n",
      "i: 15 func: 0.023732432234557264\n",
      "i: 16 func: 0.023732432229324835\n",
      "i: 17 func: 0.023732432217936885\n",
      "i: 18 func: 0.02373243221106548\n",
      "i: 19 func: 0.02373243222548318\n",
      "i: 20 func: 0.023732432216252007\n",
      "i: 21 func: 0.023732432216473337\n",
      "i: 22 func: 0.023732432230964075\n",
      "i: 23 func: 0.023732432260927132\n",
      "i: 24 func: 0.023732432223350374\n",
      "i: 25 func: 0.023732432232654848\n",
      "i: 26 func: 0.02373243222504053\n",
      "i: 27 func: 0.023732432229250075\n",
      "i: 28 func: 0.023732432217397768\n",
      "i: 29 func: 0.023732432235328213\n",
      "i: 30 func: 0.02373243222907417\n",
      "i: 31 func: 0.02373243222694752\n",
      "i: 32 func: 0.023732432225974674\n",
      "i: 33 func: 0.02373243222818892\n",
      "i: 34 func: 0.023732432260489746\n",
      "i: 35 func: 0.023732432219796876\n",
      "i: 36 func: 0.023732432203646597\n",
      "i: 37 func: 0.023732432225959586\n",
      "i: 38 func: 0.023732432226847837\n",
      "i: 39 func: 0.02373243220040215\n"
     ]
    }
   ],
   "source": [
    "for i in range(N):\n",
    "    print('i:', i, \"func:\", oracles[0].func(np.array([res[i,j] for j in range(2)])))"
   ]
  },
  {
   "cell_type": "code",
   "execution_count": null,
   "id": "6cb5abcc",
   "metadata": {},
   "outputs": [],
   "source": []
  },
  {
   "cell_type": "code",
   "execution_count": null,
   "id": "c67cfbc6",
   "metadata": {},
   "outputs": [],
   "source": []
  }
 ],
 "metadata": {
  "kernelspec": {
   "display_name": "Python 3 (ipykernel)",
   "language": "python",
   "name": "python3"
  },
  "language_info": {
   "codemirror_mode": {
    "name": "ipython",
    "version": 3
   },
   "file_extension": ".py",
   "mimetype": "text/x-python",
   "name": "python",
   "nbconvert_exporter": "python",
   "pygments_lexer": "ipython3",
   "version": "3.9.13"
  }
 },
 "nbformat": 4,
 "nbformat_minor": 5
}
