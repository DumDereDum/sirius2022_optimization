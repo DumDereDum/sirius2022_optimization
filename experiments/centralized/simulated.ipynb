{
 "cells": [
  {
   "cell_type": "code",
   "execution_count": null,
   "metadata": {},
   "outputs": [],
   "source": [
    "%load_ext autoreload\n",
    "%autoreload 2\n",
    "\n",
    "import sys\n",
    "sys.path.append(\"../../\")\n",
    "\n",
    "import numpy as np\n",
    "import numpy.linalg as npla\n",
    "import scipy\n",
    "import scipy.linalg as sla\n",
    "import pickle\n",
    "import matplotlib.pyplot as plt\n",
    "from sklearn.datasets import load_svmlight_file\n",
    "from sklearn.model_selection import train_test_split\n",
    "%matplotlib inline\n",
    "\n",
    "from methods.saddle import SaddleSliding, Extragradient, extragradient_solver, Logger, \\\n",
    "    ConstraintsL2\n",
    "from oracles.saddle import ArrayPair, RobustLinearOracle, create_robust_linear_oracle, \\\n",
    "    OracleLinearComb\n",
    "\n",
    "from experiment_utils import gen_matrices, gen_oracles_for_sliding, SaddleSlidingRunner, \\\n",
    "    compute_L_delta_mu, solve_with_extragradient, run_experiment"
   ]
  },
  {
   "cell_type": "code",
   "execution_count": null,
   "metadata": {},
   "outputs": [],
   "source": [
    "n_one = 100\n",
    "d = 40\n",
    "num_summands = 25\n",
    "regcoef_x = 0.2\n",
    "regcoef_y = 0.2\n",
    "r_x = 5.\n",
    "r_y = 5."
   ]
  },
  {
   "cell_type": "code",
   "execution_count": null,
   "metadata": {},
   "outputs": [
    {
     "name": "stdout",
     "output_type": "stream",
     "text": [
      "L = 2691.836, delta = 1144.720, mu = 0.200\n",
      "Solving with extragradient...\n",
      "steps performed:  63074\n",
      "grad norm: 1.0304e+00\n",
      "\n",
      "Running extragradient again...\n",
      "steps performed:  501\n",
      "grad norm: 1.7738e+00\n",
      "\n",
      "Running Sliding...\n",
      "T_inner = 13\n",
      "\n",
      "CPU times: user 6.71 s, sys: 12 ms, total: 6.72 s\n",
      "Wall time: 6.72 s\n"
     ]
    }
   ],
   "source": [
    "%%time\n",
    "runner, logger_extragradient = run_experiment(\n",
    "    n_one=n_one, \n",
    "    d=d, \n",
    "    mat_mean=5.,\n",
    "    mat_std=2.,\n",
    "    noise=10., \n",
    "    num_summands=num_summands, \n",
    "    regcoef_x=regcoef_x, \n",
    "    regcoef_y=regcoef_y, \n",
    "    r_x=r_x,\n",
    "    r_y=r_y, \n",
    "    num_iter_solution=500000, \n",
    "    max_time_solution=60, \n",
    "    tolerance_solution=1e-15, \n",
    "    num_iter_experiment=100\n",
    ")"
   ]
  },
  {
   "cell_type": "code",
   "execution_count": null,
   "metadata": {},
   "outputs": [
    {
     "data": {
      "image/png": "[encoded data removed]",
      "text/plain": [
       "<Figure size 432x288 with 1 Axes>"
      ]
     },
     "metadata": {
      "needs_background": "light"
     },
     "output_type": "display_data"
    }
   ],
   "source": [
    "logger_sliding = runner.logger\n",
    "plt.plot(logger_sliding.dist_to_opt, label='sliding')\n",
    "plt.plot(logger_extragradient.dist_to_opt, label='extragradient')\n",
    "\n",
    "plt.yscale('log')\n",
    "plt.legend()\n",
    "plt.grid()"
   ]
  },
  {
   "cell_type": "code",
   "execution_count": null,
   "metadata": {},
   "outputs": [],
   "source": []
  }
 ],
 "metadata": {
  "kernelspec": {
   "display_name": "Python 3",
   "language": "python",
   "name": "python3"
  },
  "language_info": {
   "codemirror_mode": {
    "name": "ipython",
    "version": 3
   },
   "file_extension": ".py",
   "mimetype": "text/x-python",
   "name": "python",
   "nbconvert_exporter": "python",
   "pygments_lexer": "ipython3",
   "version": "3.7.6"
  }
 },
 "nbformat": 4,
 "nbformat_minor": 4
}
